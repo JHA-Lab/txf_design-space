{
 "cells": [
  {
   "cell_type": "code",
   "execution_count": 1,
   "id": "9d86fbed",
   "metadata": {},
   "outputs": [],
   "source": [
    "import os\n",
    "import sys\n",
    "sys.path.append('../transformers/src/')\n",
    "sys.path.append('../embeddings/')\n",
    "\n",
    "\n",
    "from matplotlib import pyplot as plt\n",
    "from library import GraphLib, Graph\n",
    "from utils import print_util as pu\n",
    "\n",
    "import json"
   ]
  },
  {
   "cell_type": "code",
   "execution_count": 2,
   "id": "ff8131a4",
   "metadata": {},
   "outputs": [],
   "source": [
    "#Model_dicts\n",
    "\n",
    "models = {'fnet_mini': {'l':4,'o':['l','l','l','l'],'h':[256,256,256,256],'n':[4,4,4,4],'f':[[1024],[1024],[1024],[1024]],'p':['dft','dft','dft','dft']},\n",
    "'fnet_tiny' : { 'l': 2, 'o': ['l']*2, 'h': [128]*2, 'n': [2]*2, 'f': [[4*128]]*2, 'p': ['dft']*2},\n",
    "'fnet_2_256' : { 'l': 2, 'o': ['l']*2, 'h': [256]*2, 'n': [4]*2, 'f': [[4*256]]*2, 'p': ['dft']*2},\n",
    "'fnet_4_128' : { 'l': 4, 'o': ['l']*4, 'h': [128]*4, 'n': [2]*4, 'f': [[4*128]]*4, 'p': ['dft']*4},\n",
    "'bert_mini' : {'l': 4, 'o': ['sa']*4, 'h': [256]*4, 'n': [4]*4, 'f': [[1024]]*4, 'p': ['sdp']*4},\n",
    "'bert_tiny' : { 'l': 2, 'o': ['sa']*2, 'h': [128]*2, 'n': [2]*2, 'f': [[4*128]]*2, 'p': ['sdp']*2},\n",
    "'bert_2_256' : { 'l': 2, 'o': ['sa']*2, 'h': [256]*2, 'n': [4]*2, 'f': [[4*256]]*2, 'p': ['sdp']*2},\n",
    "'bert_4_128' : { 'l': 4, 'o': ['sa']*4, 'h': [128]*4, 'n': [2]*4, 'f': [[4*128]]*4, 'p': ['sdp']*4},\n",
    "'convbert_mini' : {'l':4,'o':['c','c','c','c'],'h':[256,256,256,256],'n':[4,4,4,4],'f':[[1024],[1024],[1024],[1024]],'p':[9,9,9,9]},\n",
    "'convbert_tiny' : { 'l': 2, 'o': ['c']*2, 'h': [128]*2, 'n': [2]*2, 'f': [[4*128]]*2, 'p': [9]*2},\n",
    "'convbert_2_256' : { 'l': 2, 'o': ['c']*2, 'h': [256]*2, 'n': [4]*2, 'f': [[4*256]]*2, 'p': [9]*2},\n",
    "'convbert_4_128' : { 'l': 4, 'o': ['c']*4, 'h': [128]*4, 'n': [2]*4, 'f': [[4*128]]*4, 'p': [9]*4}\n",
    "         }\n",
    "\n",
    "\n"
   ]
  },
  {
   "cell_type": "code",
   "execution_count": 3,
   "id": "67d23bc4",
   "metadata": {},
   "outputs": [],
   "source": [
    "dataset_file = '../dataset/dataset_test.json' \n",
    "graphLib = GraphLib.load_from_dataset(dataset_file)\n",
    "\n",
    "def return_hash(graphlib,model_dict):\n",
    "    \n",
    "    graph = graphlib.get_graph(model_dict=model_dict)[0]\n",
    "    \n",
    "    return graph.hash"
   ]
  },
  {
   "cell_type": "code",
   "execution_count": 4,
   "id": "97e10251",
   "metadata": {},
   "outputs": [],
   "source": [
    "GLUE_TASKS = ['cola', 'mnli', 'mrpc', 'qnli', 'qqp', 'rte', 'sst2', 'stsb', 'wnli']\n",
    "\n",
    "def return_glue_score(model_name, disp_task = False):\n",
    "    \n",
    "    model_hash =  return_hash(graphLib,models[model_name])\n",
    "    glue_scores = {}\n",
    "    \n",
    "    score = 0\n",
    "    \n",
    "    for task in GLUE_TASKS:    \n",
    "        \n",
    "        model_dir = f'../models/{task}/{model_hash}/eval_results.json'    \n",
    "        f = open(model_dir,)\n",
    "        metrics = json.load(f)\n",
    "\n",
    "        if task == 'cola':\n",
    "\n",
    "            glue_scores[task] = metrics['eval_matthews_correlation']\n",
    "            task_score = glue_scores[task]\n",
    "\n",
    "        elif task == 'stsb':\n",
    "\n",
    "            glue_scores[task+'_spearman'] = metrics['eval_spearmanr']\n",
    "            glue_scores[task+'_pearson'] = metrics['eval_pearson']\n",
    "            task_score = (metrics['eval_spearmanr']+metrics['eval_pearson'])/2\n",
    "\n",
    "        elif task == 'mrpc' or task=='qqp':\n",
    "\n",
    "            glue_scores[task+'_accuracy'] = metrics['eval_accuracy']\n",
    "            glue_scores[task+'_f1'] = metrics['eval_f1']\n",
    "            task_score = (metrics['eval_accuracy']+metrics['eval_f1'])/2\n",
    "\n",
    "        elif task in [\"sst2\", \"mnli\",  \"qnli\", \"rte\", \"wnli\"]:\n",
    "\n",
    "            glue_scores[task] = metrics['eval_accuracy']\n",
    "            task_score = metrics['eval_accuracy']\n",
    "            \n",
    "        if disp_task:\n",
    "                print(task,':',task_score)\n",
    "                \n",
    "        score+=task_score\n",
    "                        \n",
    "    \n",
    "    print(f\"{model_name}:\", score*1.0/9)\n",
    "\n",
    "    output_dir = f\"../models/glue_score/{model_hash}/\"\n",
    "    if not os.path.exists(output_dir):\n",
    "        os.makedirs(output_dir)\n",
    "\n",
    "    with open(output_dir+'glue_score_optuna.json', 'w') as fp:\n",
    "        json.dump(glue_scores, fp)"
   ]
  },
  {
   "cell_type": "code",
   "execution_count": 14,
   "id": "32c6d7b9",
   "metadata": {},
   "outputs": [
    {
     "name": "stdout",
     "output_type": "stream",
     "text": [
      "fnet_mini: 0.3133889307877333\n",
      "fnet_tiny: 0.2764506836141395\n",
      "fnet_2_256: 0.4037778175597316\n",
      "fnet_4_128: 0.4012487138288356\n",
      "bert_mini: 0.5854608585042039\n",
      "bert_tiny: 0.5439949222422282\n",
      "bert_2_256: 0.6713462680277513\n",
      "bert_4_128: 0.558872917432773\n",
      "convbert_mini: 0.3686046134950291\n",
      "convbert_tiny: 0.34452967959489184\n",
      "convbert_2_256: 0.40267048942812883\n",
      "convbert_4_128: 0.37637474090762774\n"
     ]
    }
   ],
   "source": [
    "for key in models:\n",
    "    #print(key)\n",
    "    return_glue_score(key)"
   ]
  },
  {
   "cell_type": "code",
   "execution_count": 10,
   "id": "1172b976",
   "metadata": {},
   "outputs": [
    {
     "name": "stdout",
     "output_type": "stream",
     "text": [
      "cola : 0.0437601222642778\n",
      "mnli : 0.7481692432872253\n",
      "mrpc : 0.812801065308013\n",
      "qnli : 0.8325096101043383\n",
      "qqp : 0.849596123423532\n",
      "rte : 0.5631768953068592\n",
      "sst2 : 0.8268348623853211\n",
      "stsb : 0.7857150097449594\n",
      "wnli : 0.4225352112676056\n",
      "bert_mini: 0.6538997936769035\n"
     ]
    }
   ],
   "source": [
    "#W/o hyperparameter tuning\n",
    "return_glue_score('bert_mini',True)"
   ]
  },
  {
   "cell_type": "code",
   "execution_count": 11,
   "id": "be7fb23f",
   "metadata": {},
   "outputs": [
    {
     "name": "stdout",
     "output_type": "stream",
     "text": [
      "cola : 0.0\n",
      "mnli : 0.6882628152969894\n",
      "mrpc : 0.7599857450398557\n",
      "qnli : 0.7924217462932455\n",
      "qqp : 0.8131614635290008\n",
      "rte : 0.5776173285198556\n",
      "sst2 : 0.819954128440367\n",
      "stsb : 0.282906695531303\n",
      "wnli : 0.49295774647887325\n",
      "bert_tiny: 0.5808075187921656\n"
     ]
    }
   ],
   "source": [
    "#W/o hyperparameter tuning\n",
    "return_glue_score('bert_tiny',True)"
   ]
  },
  {
   "cell_type": "code",
   "execution_count": 12,
   "id": "6b938077",
   "metadata": {},
   "outputs": [
    {
     "name": "stdout",
     "output_type": "stream",
     "text": [
      "cola : 0.0\n",
      "mnli : 0.7209113100081367\n",
      "mrpc : 0.7633269720101782\n",
      "qnli : 0.8103606077246934\n",
      "qqp : 0.8324127636020967\n",
      "rte : 0.6209386281588448\n",
      "sst2 : 0.8314220183486238\n",
      "stsb : 0.7630462851405746\n",
      "wnli : 0.39436619718309857\n",
      "bert_2_256: 0.6374205313529164\n"
     ]
    }
   ],
   "source": [
    "#W/o hyperparameter tuning\n",
    "return_glue_score('bert_2_256',True)"
   ]
  },
  {
   "cell_type": "code",
   "execution_count": 13,
   "id": "469e2201",
   "metadata": {},
   "outputs": [
    {
     "name": "stdout",
     "output_type": "stream",
     "text": [
      "cola : 0.0\n",
      "mnli : 0.7104353132628153\n",
      "mrpc : 0.7597163865546218\n",
      "qnli : 0.800109829763866\n",
      "qqp : 0.8294449225786891\n",
      "rte : 0.5992779783393501\n",
      "sst2 : 0.8268348623853211\n",
      "stsb : -0.055277708660460716\n",
      "wnli : 0.5352112676056338\n",
      "bert_4_128: 0.5561947613144264\n"
     ]
    }
   ],
   "source": [
    "#W/o hyperparameter tuning\n",
    "return_glue_score('bert_4_128',True)"
   ]
  },
  {
   "cell_type": "code",
   "execution_count": 14,
   "id": "42d01650",
   "metadata": {},
   "outputs": [
    {
     "name": "stdout",
     "output_type": "stream",
     "text": [
      "cola : 0.0\n",
      "mnli : 0.5948942229454841\n",
      "mrpc : 0.7303247822160068\n",
      "qnli : 0.5118066996155958\n",
      "qqp : 0.45421567284928477\n",
      "rte : 0.48014440433212996\n",
      "sst2 : 0.5103211009174312\n",
      "stsb : 0.13649436765700407\n",
      "wnli : 0.43661971830985913\n",
      "fnet_mini: 0.4283134409825328\n"
     ]
    }
   ],
   "source": [
    "#W/o hyperparameter tuning\n",
    "return_glue_score('fnet_mini',True)"
   ]
  },
  {
   "cell_type": "code",
   "execution_count": 15,
   "id": "4a1b84b6",
   "metadata": {},
   "outputs": [
    {
     "name": "stdout",
     "output_type": "stream",
     "text": [
      "cola : -0.0463559874942472\n",
      "mnli : 0.544446704637917\n",
      "mrpc : 0.15808823529411764\n",
      "qnli : 0.4946000366099213\n",
      "qqp : 0.31613024326967304\n",
      "rte : 0.5306859205776173\n",
      "sst2 : 0.49311926605504586\n",
      "stsb : 0.020093730118187596\n",
      "wnli : 0.5633802816901409\n",
      "fnet_tiny: 0.3415764923064859\n"
     ]
    }
   ],
   "source": [
    "#W/o hyperparameter tuning\n",
    "return_glue_score('fnet_tiny',True)"
   ]
  },
  {
   "cell_type": "code",
   "execution_count": 16,
   "id": "e6e5efcb",
   "metadata": {},
   "outputs": [
    {
     "name": "stdout",
     "output_type": "stream",
     "text": [
      "cola : -0.006434621036303265\n",
      "mnli : 0.5667209113100081\n",
      "mrpc : 0.73670814479638\n",
      "qnli : 0.5043016657514187\n",
      "qqp : 0.4485801998879112\n",
      "rte : 0.49097472924187724\n",
      "sst2 : 0.48394495412844035\n",
      "stsb : 0.032333552656536146\n",
      "wnli : 0.5633802816901409\n",
      "fnet_2_256: 0.42450109093626776\n"
     ]
    }
   ],
   "source": [
    "#W/o hyperparameter tuning\n",
    "return_glue_score('fnet_2_256',True)"
   ]
  },
  {
   "cell_type": "code",
   "execution_count": 17,
   "id": "8ad30da3",
   "metadata": {},
   "outputs": [
    {
     "name": "stdout",
     "output_type": "stream",
     "text": [
      "cola : 0.0\n",
      "mnli : 0.5693653376729048\n",
      "mrpc : 0.7480253018237863\n",
      "qnli : 0.5053999633900788\n",
      "qqp : 0.4531960153447163\n",
      "rte : 0.4729241877256318\n",
      "sst2 : 0.5091743119266054\n",
      "stsb : 0.015041115092908158\n",
      "wnli : 0.43661971830985913\n",
      "fnet_4_128: 0.41219399458738787\n"
     ]
    }
   ],
   "source": [
    "#W/o hyperparameter tuning\n",
    "return_glue_score('fnet_4_128',True)"
   ]
  },
  {
   "cell_type": "code",
   "execution_count": 18,
   "id": "6a2ba0ef",
   "metadata": {},
   "outputs": [
    {
     "name": "stdout",
     "output_type": "stream",
     "text": [
      "cola : -0.008978697532733301\n",
      "mnli : 0.6870423108218063\n",
      "mrpc : 0.3139309616061994\n",
      "qnli : 0.4935017389712612\n",
      "qqp : 0.38892708291421213\n",
      "rte : 0.48375451263537905\n",
      "sst2 : 0.5\n",
      "stsb : 0.6851238603703937\n",
      "wnli : 0.5492957746478874\n",
      "convbert_mini: 0.4547330604927117\n"
     ]
    }
   ],
   "source": [
    "#W/o hyperparameter tuning\n",
    "return_glue_score('convbert_mini',True)"
   ]
  },
  {
   "cell_type": "code",
   "execution_count": 12,
   "id": "64abe04e",
   "metadata": {},
   "outputs": [
    {
     "name": "stdout",
     "output_type": "stream",
     "text": [
      "cola : 0.056663872782814644\n",
      "mnli : 0.5702807160292921\n",
      "mrpc_accuracy : 0.3088235294117647\n",
      "mrpc_f1 : 0.11320754716981131\n",
      "qnli : 0.4870950027457441\n",
      "qqp_accuracy : 0.6025228790502103\n",
      "qqp_f1 : 0.1266304347826087\n",
      "rte : 0.5054151624548736\n",
      "sst2 : 0.4873853211009174\n",
      "stsb_spearman : -0.1850780853119452\n",
      "stsb_pearson : -0.14830445080657897\n",
      "wnli : 0.5492957746478874\n",
      "convbert_tiny: 0.28949480867145\n"
     ]
    }
   ],
   "source": [
    "#W/o hyperparameter tuning\n",
    "return_glue_score('convbert_tiny',True)"
   ]
  },
  {
   "cell_type": "code",
   "execution_count": 19,
   "id": "4f0b1a3f",
   "metadata": {},
   "outputs": [
    {
     "name": "stdout",
     "output_type": "stream",
     "text": [
      "cola : -0.025881504697334985\n",
      "mnli : 0.6651749389747762\n",
      "mrpc : 0.5907928388746804\n",
      "qnli : 0.5052169137836353\n",
      "qqp : 0.4380322860627459\n",
      "rte : 0.48736462093862815\n",
      "sst2 : 0.5160550458715596\n",
      "stsb : 0.13629454636087635\n",
      "wnli : 0.4507042253521127\n",
      "convbert_2_256: 0.4181948790579644\n"
     ]
    }
   ],
   "source": [
    "#W/o hyperparameter tuning\n",
    "return_glue_score('convbert_2_256',True)"
   ]
  },
  {
   "cell_type": "code",
   "execution_count": 20,
   "id": "9e1dac0f",
   "metadata": {},
   "outputs": [
    {
     "name": "stdout",
     "output_type": "stream",
     "text": [
      "cola : -0.0220169981008474\n",
      "mnli : 0.6581570382424735\n",
      "mrpc : 0.36038011695906436\n",
      "qnli : 0.4905729452681677\n",
      "qqp : 0.3364265034347715\n",
      "rte : 0.5018050541516246\n",
      "sst2 : 0.4782110091743119\n",
      "stsb : -0.13267689840577668\n",
      "wnli : 0.5492957746478874\n",
      "convbert_4_128: 0.3577949494857419\n"
     ]
    }
   ],
   "source": [
    "#W/o hyperparameter tuning\n",
    "return_glue_score('convbert_4_128',True)"
   ]
  },
  {
   "cell_type": "code",
   "execution_count": 13,
   "id": "0363b0c0",
   "metadata": {},
   "outputs": [
    {
     "name": "stdout",
     "output_type": "stream",
     "text": [
      "cola : 0.05512328662084196\n",
      "mnli : 0.5419039869812856\n",
      "mrpc : 0.3104586735544076\n",
      "qnli : 0.4865458539264141\n",
      "qqp : 0.3642803512469725\n",
      "rte : 0.51985559566787\n",
      "sst2 : 0.47591743119266056\n",
      "stsb : -0.02840711839242723\n",
      "wnli : 0.5352112676056338\n",
      "convbert_mini: 0.3623210364892955\n"
     ]
    }
   ],
   "source": [
    "#W hyperparameter tuning\n",
    "return_glue_score('convbert_mini',True)"
   ]
  },
  {
   "cell_type": "code",
   "execution_count": 6,
   "id": "7a29ef7b",
   "metadata": {},
   "outputs": [
    {
     "name": "stdout",
     "output_type": "stream",
     "text": [
      "cola : -0.02907606795597719\n",
      "mnli : 0.3496745321399512\n",
      "mrpc : 0.6614357152256876\n",
      "qnli : 0.5074135090609555\n",
      "qqp : 0.46152933495368514\n",
      "rte : 0.48736462093862815\n",
      "sst2 : 0.5022935779816514\n",
      "stsb : 0.04047439836643846\n",
      "wnli : 0.5492957746478874\n",
      "convbert_tiny: 0.3922672661509898\n"
     ]
    }
   ],
   "source": [
    "return_glue_score('convbert_tiny',True)"
   ]
  },
  {
   "cell_type": "code",
   "execution_count": 7,
   "id": "e5f55091",
   "metadata": {},
   "outputs": [
    {
     "name": "stdout",
     "output_type": "stream",
     "text": [
      "cola : -0.027803716697716103\n",
      "mnli : 0.5003051261187957\n",
      "mrpc : 0.5117478025693036\n",
      "qnli : 0.504484715357862\n",
      "qqp : 0.4647691851157587\n",
      "rte : 0.4693140794223827\n",
      "sst2 : 0.5229357798165137\n",
      "stsb : -0.0695342099356992\n",
      "wnli : 0.6197183098591549\n",
      "convbert_2_256: 0.38843745240292843\n"
     ]
    }
   ],
   "source": [
    "return_glue_score('convbert_2_256',True)"
   ]
  },
  {
   "cell_type": "code",
   "execution_count": 8,
   "id": "a249a310",
   "metadata": {},
   "outputs": [
    {
     "name": "stdout",
     "output_type": "stream",
     "text": [
      "cola : 0.019093405342267576\n",
      "mnli : 0.3715419039869813\n",
      "mrpc : 0.6078102529025922\n",
      "qnli : 0.49990847519677833\n",
      "qqp : 0.42676803231659954\n",
      "rte : 0.5415162454873647\n",
      "sst2 : 0.5137614678899083\n",
      "stsb : 0.7688935669943996\n",
      "wnli : 0.4788732394366197\n",
      "convbert_4_128: 0.46979628772816795\n"
     ]
    }
   ],
   "source": [
    "return_glue_score('convbert_4_128',True)"
   ]
  },
  {
   "cell_type": "code",
   "execution_count": 9,
   "id": "d16a7e9e",
   "metadata": {},
   "outputs": [
    {
     "name": "stdout",
     "output_type": "stream",
     "text": [
      "cola : 0.0\n",
      "mnli : 0.43185516680227826\n",
      "mrpc : 0.15808823529411764\n",
      "qnli : 0.4946000366099213\n",
      "qqp : 0.3159163987138264\n",
      "rte : 0.5270758122743683\n",
      "sst2 : 0.4908256880733945\n",
      "stsb : 0.2040465316381462\n",
      "wnli : 0.5633802816901409\n",
      "fnet_mini: 0.3539764612329104\n"
     ]
    }
   ],
   "source": [
    "return_glue_score('fnet_mini',True)"
   ]
  },
  {
   "cell_type": "code",
   "execution_count": 10,
   "id": "f3ad946f",
   "metadata": {},
   "outputs": [
    {
     "name": "stdout",
     "output_type": "stream",
     "text": [
      "cola : -0.01514459092315947\n",
      "mnli : 0.37072823433685925\n",
      "mrpc : 0.16640592407175636\n",
      "qnli : 0.48929159802306427\n",
      "qqp : 0.3561744956335734\n",
      "rte : 0.5234657039711191\n",
      "sst2 : 0.4908256880733945\n",
      "stsb : 0.02360055513750737\n",
      "wnli : 0.5633802816901409\n",
      "fnet_tiny: 0.32985865444602847\n"
     ]
    }
   ],
   "source": [
    "return_glue_score('fnet_tiny',True)"
   ]
  },
  {
   "cell_type": "code",
   "execution_count": 11,
   "id": "b02f872e",
   "metadata": {},
   "outputs": [
    {
     "name": "stdout",
     "output_type": "stream",
     "text": [
      "cola : -0.0008379276266605604\n",
      "mnli : 0.5350895036615134\n",
      "mrpc : 0.6247725894481504\n",
      "qnli : 0.5035694673256452\n",
      "qqp : 0.4711049467149334\n",
      "rte : 0.4296028880866426\n",
      "sst2 : 0.49770642201834864\n",
      "stsb : 0.14049262187074613\n",
      "wnli : 0.5211267605633803\n",
      "fnet_2_256: 0.4136252524514111\n"
     ]
    }
   ],
   "source": [
    "return_glue_score('fnet_2_256',True)"
   ]
  },
  {
   "cell_type": "code",
   "execution_count": 12,
   "id": "2b2b6cdb",
   "metadata": {},
   "outputs": [
    {
     "name": "stdout",
     "output_type": "stream",
     "text": [
      "cola : 0.0\n",
      "mnli : 0.5165785191212368\n",
      "mrpc : 0.15808823529411764\n",
      "qnli : 0.4946000366099213\n",
      "qqp : 0.3159163987138264\n",
      "rte : 0.5270758122743683\n",
      "sst2 : 0.4908256880733945\n",
      "stsb : -0.031375285964505784\n",
      "wnli : 0.5633802816901409\n",
      "fnet_4_128: 0.33723218731249993\n"
     ]
    }
   ],
   "source": [
    "return_glue_score('fnet_4_128',True)"
   ]
  },
  {
   "cell_type": "code",
   "execution_count": 14,
   "id": "4c61e3fc",
   "metadata": {},
   "outputs": [
    {
     "name": "stdout",
     "output_type": "stream",
     "text": [
      "cola : 0.12490292474785736\n",
      "mnli : 0.519426362896664\n",
      "mrpc : 0.7822712418300655\n",
      "qnli : 0.4946000366099213\n",
      "qqp : 0.8539259771895291\n",
      "rte : 0.4729241877256318\n",
      "sst2 : 0.8279816513761468\n",
      "stsb : 0.7857150097449594\n",
      "wnli : 0.4225352112676056\n",
      "bert_mini: 0.5871425114875979\n"
     ]
    }
   ],
   "source": [
    "return_glue_score('bert_mini',True)"
   ]
  },
  {
   "cell_type": "code",
   "execution_count": 15,
   "id": "d10efcf8",
   "metadata": {},
   "outputs": [
    {
     "name": "stdout",
     "output_type": "stream",
     "text": [
      "cola : 0.037467036153535895\n",
      "mnli : 0.7117575264442636\n",
      "mrpc : 0.7437758551104833\n",
      "qnli : 0.7843675636097382\n",
      "qqp : 0.8396133232315167\n",
      "rte : 0.4729241877256318\n",
      "sst2 : 0.5091743119266054\n",
      "stsb : 0.282906695531303\n",
      "wnli : 0.49295774647887325\n",
      "bert_tiny: 0.5416604718013279\n"
     ]
    }
   ],
   "source": [
    "return_glue_score('bert_tiny',True)"
   ]
  },
  {
   "cell_type": "code",
   "execution_count": 16,
   "id": "e1869325",
   "metadata": {},
   "outputs": [
    {
     "name": "stdout",
     "output_type": "stream",
     "text": [
      "cola : -0.016334423518002312\n",
      "mnli : 0.7248779495524816\n",
      "mrpc : 0.6902456337726348\n",
      "qnli : 0.7682591982427238\n",
      "qqp : 0.3159163987138264\n",
      "rte : 0.5848375451263538\n",
      "sst2 : 0.7362385321100917\n",
      "stsb : 0.14983080761493864\n",
      "wnli : 0.352112676056338\n",
      "bert_4_128: 0.47844270196348737\n"
     ]
    }
   ],
   "source": [
    "return_glue_score('bert_4_128',True)"
   ]
  },
  {
   "cell_type": "code",
   "execution_count": 17,
   "id": "b35866de",
   "metadata": {},
   "outputs": [
    {
     "name": "stdout",
     "output_type": "stream",
     "text": [
      "cola : 0.09880168479861816\n",
      "mnli : 0.5763832384052074\n",
      "mrpc : 0.7480253018237863\n",
      "qnli : 0.7980962840929892\n",
      "qqp : 0.3159163987138264\n",
      "rte : 0.6209386281588448\n",
      "sst2 : 0.5091743119266054\n",
      "stsb : 0.8308536686774791\n",
      "wnli : 0.4084507042253521\n",
      "bert_2_256: 0.5451822467580788\n"
     ]
    }
   ],
   "source": [
    "return_glue_score('bert_2_256',True)"
   ]
  }
 ],
 "metadata": {
  "kernelspec": {
   "display_name": "Python 3",
   "language": "python",
   "name": "python3"
  },
  "language_info": {
   "codemirror_mode": {
    "name": "ipython",
    "version": 3
   },
   "file_extension": ".py",
   "mimetype": "text/x-python",
   "name": "python",
   "nbconvert_exporter": "python",
   "pygments_lexer": "ipython3",
   "version": "3.8.10"
  }
 },
 "nbformat": 4,
 "nbformat_minor": 5
}
