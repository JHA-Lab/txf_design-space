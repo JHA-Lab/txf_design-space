{
 "cells": [
  {
   "cell_type": "code",
   "execution_count": 36,
   "metadata": {},
   "outputs": [],
   "source": [
    "import sys\n",
    "import os\n",
    "import yaml\n",
    "import json\n",
    "import numpy as np\n",
    "import random\n",
    "\n",
    "sys.path.append('../../embeddings/')\n",
    "sys.path.append('../../boshnas/')\n",
    "\n",
    "from library import Graph, GraphLib\n",
    "from boshnas import BOSHNAS"
   ]
  },
  {
   "cell_type": "code",
   "execution_count": 48,
   "metadata": {},
   "outputs": [
    {
     "name": "stdout",
     "output_type": "stream",
     "text": [
      "Homogenous models: 11\n",
      "Heterogenous models: 10\n"
     ]
    }
   ],
   "source": [
    "trained_hashes = os.listdir('/scratch/gpfs/stuli/txf_design-space/models/glue/')\n",
    "\n",
    "graphLib = GraphLib.load_from_dataset('../../dataset/dataset_test_bn.json')\n",
    "\n",
    "def is_homogenous(graphObject):\n",
    "    model_dict = graphObject.model_dict\n",
    "    hashed_f = [hash(str(item)) for item in model_dict['f']]\n",
    "    return True if len(set(model_dict['h'])) == 1 and len(set(model_dict['n'])) == 1 and len(set(model_dict['o'])) == 1 \\\n",
    "        and len(set(hashed_f)) == 1 and len(set(model_dict['p'])) == 1 else False\n",
    "\n",
    "homogenous_models, heterogenous_models = 0, 0\n",
    "X_ds_total = np.zeros((len(trained_hashes), 16))\n",
    "y_ds_total = np.zeros((len(trained_hashes)))\n",
    "count = 0\n",
    "\n",
    "for model_hash in trained_hashes:\n",
    "    model, _ = graphLib.get_graph(model_hash=model_hash)\n",
    "    X_ds_total[count, :], y_ds_total[count] = model.embedding, \\\n",
    "        json.load(open(f'/scratch/gpfs/stuli/txf_design-space/models/glue/{model_hash}/all_results.json'))['glue_score']\n",
    "    if is_homogenous(model):\n",
    "        homogenous_models += 1\n",
    "    else:\n",
    "        heterogenous_models += 1\n",
    "    count += 1\n",
    "        \n",
    "print(f'Homogenous models: {homogenous_models}\\nHeterogenous models: {heterogenous_models}')"
   ]
  },
  {
   "cell_type": "code",
   "execution_count": 50,
   "metadata": {},
   "outputs": [
    {
     "name": "stdout",
     "output_type": "stream",
     "text": [
      "Best design-space performance:  0.666\n",
      "Best model is homogenous: False\n",
      "Best performance in space of homogenous models:  0.663\n"
     ]
    }
   ],
   "source": [
    "print(f'Best design-space performance: {1 - np.amin(y_ds_total): 0.03f}')\n",
    "\n",
    "best_model_hash = trained_hashes[np.argmin(y_ds_total)]\n",
    "best_model, _ = graphLib.get_graph(model_hash=best_model_hash)\n",
    "\n",
    "print(f'Best model is homogenous: {is_homogenous(best_model)}')\n",
    "\n",
    "homogenous_indices = [i for i in range(len(trained_hashes)) \\\n",
    "                       if is_homogenous(graphLib.get_graph(model_hash=trained_hashes[i])[0])]\n",
    "homogenous_hashes = [trained_hashes[i] for i in homogenous_indices]\n",
    "X_ds_homo, y_ds_homo = np.take(X_ds_total, homogenous_indices, axis=0), np.take(y_ds_total, homogenous_indices)\n",
    "\n",
    "print(f'Best performance in space of homogenous models: {1 - np.amin(y_ds_homo): 0.03f}')"
   ]
  },
  {
   "cell_type": "code",
   "execution_count": 101,
   "metadata": {},
   "outputs": [],
   "source": [
    "# Implement baselines\n",
    "\n",
    "class RandomModel():\n",
    "    def __init__(self):\n",
    "        pass\n",
    "\n",
    "    def get_queries(self, x, k, **kwargs):\n",
    "        return random.sample(list(range(len(x))), k)\n",
    "    \n",
    "    def train(self, *args, **kwargs):\n",
    "        pass\n",
    "    \n",
    "class EvolutionaryModel():\n",
    "    def __init__(self):\n",
    "        self.r_cross = 0.95 # cross-over rate\n",
    "        self.r_mut = 0.1 # mutation rate\n",
    "        pass\n",
    "    \n",
    "    def get_queries(self, x, k, **kwargs):\n",
    "        children = []\n",
    "        while len(children) < k:\n",
    "            for c in self._crossover(self.parents[0], self.parents[1]):\n",
    "                children.append(self._mutation(c))\n",
    "        indices = []\n",
    "        for c in children:\n",
    "            devs = np.mean(np.abs(c - x), axis=1)\n",
    "            indices.append(np.argmin(devs))\n",
    "        return list(set(indices))\n",
    "    \n",
    "    def train(self, X, y):\n",
    "        self.parents = [X[i, :] for i in np.argsort(y)[:2]]\n",
    "        \n",
    "    def _crossover(self, p1, p2):\n",
    "        c1, c2 = p1.copy(), p2.copy()\n",
    "        if random.random() < self.r_cross:\n",
    "            pt = random.randint(1, len(p1)-2)\n",
    "            c1 = np.concatenate((p1[:pt], p2[pt:]))\n",
    "            c2 = np.concatenate((p2[:pt], p1[pt:]))\n",
    "        return [c1, c2]\n",
    "    \n",
    "    def _mutation(self, c):\n",
    "        for i in range(len(c)):\n",
    "            if random.random() < self.r_mut:\n",
    "                c[i] *= -1\n",
    "        return c"
   ]
  },
  {
   "cell_type": "code",
   "execution_count": 103,
   "metadata": {},
   "outputs": [],
   "source": [
    "algo_names = ['random', 'evolution', 'bo', 'bananas', 'boshnas']\n",
    "\n",
    "def run_nas_algorithm(algo_name, homogenous: bool):\n",
    "    if homogenous:\n",
    "        X_ds, y_ds = X_ds_homo, y_ds_homo\n",
    "    else:\n",
    "        X_ds, y_ds = X_ds_total, y_ds_total\n",
    "        \n",
    "    min_X, max_X = np.min(X_ds, axis=0), np.max(X_ds, axis=0)\n",
    "    \n",
    "    if algo_name == 'boshnas':\n",
    "        # Initialize the BOSHNAS model\n",
    "        surrogate_model = BOSHNAS(input_dim=X_ds.shape[1],\n",
    "                                  bounds=(min_X, max_X),\n",
    "                                  trust_region=False,\n",
    "                                  second_order=True,\n",
    "                                  parallel=True,\n",
    "                                  model_aleatoric=True,\n",
    "                                  save_path='./test_surrogate/',\n",
    "                                  pretrained=False)\n",
    "    elif algo_name == 'random':\n",
    "        # Initialize a random sampling model\n",
    "        surrogate_model = RandomModel()\n",
    "    elif algo_name == 'evolution':\n",
    "        # Initialize a genetic algorithm model\n",
    "        surrogate_model = EvolutionaryModel()\n",
    "\n",
    "    K = 2\n",
    "\n",
    "    trained_indices = random.sample(list(range(X_ds.shape[0])), K)\n",
    "    X, y = np.take(X_ds, trained_indices, axis=0), np.take(y_ds, trained_indices) \n",
    "    num_trained = len(trained_indices)\n",
    "\n",
    "    max_loss = np.amax(y)\n",
    "    best_performance = 1 - np.amin(y)\n",
    "\n",
    "    print(f'Trained models: {len(trained_indices)}, Current best performance: {best_performance: 0.03f}')\n",
    "\n",
    "    # Train BOSHNAS model based on trained models\n",
    "    train_error = surrogate_model.train(X, y/max_loss)\n",
    "\n",
    "    same_accuracy = 0\n",
    "    while same_accuracy < 5:\n",
    "        # Get next queries\n",
    "        query_indices = surrogate_model.get_queries(x=X_ds, k=K, explore_type='ucb', use_al=False)\n",
    "\n",
    "        # Train on expanded dataset\n",
    "        trained_indices.extend(query_indices)\n",
    "        trained_indices = list(set(trained_indices))\n",
    "        X, y = np.take(X_ds, trained_indices, axis=0), np.take(y_ds, trained_indices) \n",
    "        train_error = surrogate_model.train(X, y/max_loss)\n",
    "\n",
    "        new_best_performance = 1 - np.amin(y)\n",
    "\n",
    "        if new_best_performance == best_performance: same_accuracy += 1\n",
    "        best_performance = new_best_performance\n",
    "        \n",
    "        if len(trained_indices) != num_trained:\n",
    "            print(f'Trained models: {len(trained_indices)}, Current best performance: {best_performance: 0.03f}')\n",
    "            num_trained = len(trained_indices)"
   ]
  },
  {
   "cell_type": "code",
   "execution_count": 109,
   "metadata": {},
   "outputs": [
    {
     "name": "stdout",
     "output_type": "stream",
     "text": [
      "Trained models: 2, Current best performance:  0.666\n"
     ]
    }
   ],
   "source": [
    "run_nas_algorithm('evolution', False)"
   ]
  }
 ],
 "metadata": {
  "kernelspec": {
   "display_name": "txf_design-space [~/.conda/envs/txf_design-space/]",
   "language": "python",
   "name": "conda_txf_design-space"
  },
  "language_info": {
   "codemirror_mode": {
    "name": "ipython",
    "version": 3
   },
   "file_extension": ".py",
   "mimetype": "text/x-python",
   "name": "python",
   "nbconvert_exporter": "python",
   "pygments_lexer": "ipython3",
   "version": "3.8.10"
  }
 },
 "nbformat": 4,
 "nbformat_minor": 4
}
